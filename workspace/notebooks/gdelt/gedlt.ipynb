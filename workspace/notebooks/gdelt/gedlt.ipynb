{
 "cells": [
  {
   "cell_type": "markdown",
   "metadata": {},
   "source": [
    "## The GDELT dataset v1.0"
   ]
  },
  {
   "cell_type": "markdown",
   "metadata": {},
   "source": [
    "The GDELT 1.0 event dataset comprises over 3.5 billion mentions of over 364 million distinct events from almost every corner of the earth spanning January 1979 to present and updated daily. GDELT 1.0 includes only hand translated foreign language content – for those wanting access to the full-volume machine translation feed, GDELT 2.0 should be used instead. You can download the complete collection as a series of CSV files or query it through Google BigQuery. The file format documentation describes the various fields and their structure. You can also download column headers for the 1979 – March 2013 Back File and April 1, 2013 – Present Front File, as well as the Column IDs.\n",
    "\n",
    "The GDELT Event Database uses the CAMEO event taxonomy, which is a collection of more than 300 types of events organized into a hierarchical taxonomy and recorded in the files as a numeric code. You can learn more about the schema itself in the CAMEO Code Reference. In addition, tab-delimited lookup files are available that contain the human-friendly textual labels for each of those codes to make it easier to work with the data for those who have not previously worked with CAMEO. Lookups are available for both Event Codes and the Goldstein Scale. In addition, details recording characteristics of the actors involved in each event are stored as a sequence of 3 character codes. Lookups are available for Event Country Codes, Type Codes, Known Group Codes, Ethnic Codes and Religion Codes.\n",
    "\n",
    "There are also a number of normalization files available. These comma-delimited (CSV) files are updated daily and record the total number of events in the GDELT 1.0 Event Database across all event types broken down by time and country. This is important for normalization tasks, to compensate the exponential increase in the availability of global news material over time. Available normalization files include Daily, Daily by Country, Monthly, Monthly by Country, Yearly and Yearly by"
   ]
  },
  {
   "cell_type": "markdown",
   "metadata": {},
   "source": [
    "Events code = http://data.gdeltproject.org/documentation/GDELT-Data_Format_Codebook.pdf\n",
    "<p>to download some events: $wget -r --no-parent -A zip http://data.gdeltproject.org/events/```  <p>"
   ]
  },
  {
   "cell_type": "code",
   "execution_count": 2,
   "metadata": {},
   "outputs": [
    {
     "name": "stderr",
     "output_type": "stream",
     "text": [
      "21/07/18 00:21:16 WARN NativeCodeLoader: Unable to load native-hadoop library for your platform... using builtin-java classes where applicable\n",
      "Using Spark's default log4j profile: org/apache/spark/log4j-defaults.properties\n",
      "Setting default log level to \"WARN\".\n",
      "To adjust logging level use sc.setLogLevel(newLevel). For SparkR, use setLogLevel(newLevel).\n"
     ]
    }
   ],
   "source": [
    "from pyspark.sql import SparkSession"
   ]
  },
  {
   "cell_type": "code",
   "execution_count": null,
   "metadata": {},
   "outputs": [],
   "source": [
    "spark = SparkSession.\\\n",
    "        builder.\\\n",
    "        appName(\"pyspark-notebook\").\\\n",
    "        master(\"spark://spark-master:7077\").\\\n",
    "        config(\"spark.executor.memory\", \"512m\").\\\n",
    "        getOrCreate()"
   ]
  },
  {
   "cell_type": "code",
   "execution_count": 4,
   "metadata": {},
   "outputs": [
    {
     "name": "stderr",
     "output_type": "stream",
     "text": [
      "                                                                                \r"
     ]
    }
   ],
   "source": [
    "events = spark.read.option(\"inferSchema\",\"true\")\\\n",
    ".option(\"delimiter\", \"\\t\")\\\n",
    ".csv(\"../../data/excluded/events-dataset/\")"
   ]
  },
  {
   "cell_type": "code",
   "execution_count": 7,
   "metadata": {},
   "outputs": [],
   "source": [
    "events = events.withColumnRenamed(\"_c0\",\"GLOBALEVENTID\")\n",
    "events = events.withColumnRenamed(\"_c1\",\"SQLDATE\")\n",
    "events = events.withColumnRenamed(\"_c2\",\"MonthYear\")\n",
    "events = events.withColumnRenamed(\"_c3\",\"Year\")\n",
    "events = events.withColumnRenamed(\"_c4\",\"FractionDate\")\n",
    "events = events.withColumnRenamed(\"_c5\",\"Actor1Code\")\n",
    "events = events.withColumnRenamed(\"_c6\",\"Actor1Name\")\n",
    "events = events.withColumnRenamed(\"_c7\",\"Actor1CountryCode\")\n",
    "events = events.withColumnRenamed(\"_c8\",\"Actor1KnownGroupCode\")\n",
    "events = events.withColumnRenamed(\"_c9\",\"Actor1EthnicCode\")\n",
    "events = events.withColumnRenamed(\"_c10\",\"Actor1Religion1Code\")\n",
    "events = events.withColumnRenamed(\"_c11\",\"Actor1Religion2Code\")\n",
    "events = events.withColumnRenamed(\"_c12\",\"Actor1Type1Code\")\n",
    "events = events.withColumnRenamed(\"_c13\",\"Actor1Type2Code\")\n",
    "events = events.withColumnRenamed(\"_c14\",\"Actor1Type3Code\")\n",
    "events = events.withColumnRenamed(\"_c15\",\"Actor2Code\")\n",
    "events = events.withColumnRenamed(\"_c16\",\"Actor2Name\")\n",
    "events = events.withColumnRenamed(\"_c17\",\"Actor2CountryCode\")\n",
    "events = events.withColumnRenamed(\"_c18\",\"Actor2KnownGroupCode\")\n",
    "events = events.withColumnRenamed(\"_c19\",\"Actor2EthnicCode\")\n",
    "events = events.withColumnRenamed(\"_c20\",\"Actor2Religion1Code\")\n",
    "events = events.withColumnRenamed(\"_c21\",\"Actor2Religion2Code\")\n",
    "events = events.withColumnRenamed(\"_c22\",\"Actor2Type1Code\")\n",
    "events = events.withColumnRenamed(\"_c23\",\"Actor2Type2Code\")\n",
    "events = events.withColumnRenamed(\"_c24\",\"Actor2Type3Code\")\n",
    "events = events.withColumnRenamed(\"_c25\",\"IsRootEvent\")\n",
    "events = events.withColumnRenamed(\"_c26\",\"EventCode\")\n",
    "events = events.withColumnRenamed(\"_c27\",\"EventBaseCode\")\n",
    "events = events.withColumnRenamed(\"_c28\",\"EventRootCode\")\n",
    "events = events.withColumnRenamed(\"_c29\",\"QuadClass\")\n",
    "events = events.withColumnRenamed(\"_c30\",\"GoldsteinScale\")\n",
    "events = events.withColumnRenamed(\"_c31\",\"NumMentions\")\n",
    "events = events.withColumnRenamed(\"_c32\",\"NumSources\")\n",
    "events = events.withColumnRenamed(\"_c33\",\"NumArticles\")\n",
    "events = events.withColumnRenamed(\"_c34\",\"AvgTone\")\n",
    "events = events.withColumnRenamed(\"_c35\",\"Actor1Geo_Type\")\n",
    "events = events.withColumnRenamed(\"_c36\",\"Actor1Geo_FullName\")\n",
    "events = events.withColumnRenamed(\"_c37\",\"Actor1Geo_CountryCode\")\n",
    "events = events.withColumnRenamed(\"_c38\",\"Actor1Geo_ADM1Code\")\n",
    "events = events.withColumnRenamed(\"_c39\",\"Actor1Geo_Lat\")\n",
    "events = events.withColumnRenamed(\"_c40\",\"Actor1Geo_Long\")\n",
    "events = events.withColumnRenamed(\"_c41\",\"Actor1Geo_FeatureID\")\n",
    "events = events.withColumnRenamed(\"_c42\",\"Actor2Geo_Type\")\n",
    "events = events.withColumnRenamed(\"_c43\",\"Actor2Geo_FullName\")\n",
    "events = events.withColumnRenamed(\"_c44\",\"Actor2Geo_CountryCode\")\n",
    "events = events.withColumnRenamed(\"_c45\",\"Actor2Geo_ADM1Code\")\n",
    "events = events.withColumnRenamed(\"_c46\",\"Actor2Geo_Lat\")\n",
    "events = events.withColumnRenamed(\"_c47\",\"Actor2Geo_Long\")\n",
    "events = events.withColumnRenamed(\"_c48\",\"Actor2Geo_FeatureID\")\n",
    "events = events.withColumnRenamed(\"_c49\",\"ActionGeo_Type\")\n",
    "events = events.withColumnRenamed(\"_c50\",\"ActionGeo_FullName\")\n",
    "events = events.withColumnRenamed(\"_c51\",\"ActionGeo_CountryCode\")\n",
    "events = events.withColumnRenamed(\"_c52\",\"ActionGeo_ADM1Code\")\n",
    "events = events.withColumnRenamed(\"_c53\",\"ActionGeo_Lat\")\n",
    "events = events.withColumnRenamed(\"_c54\",\"ActionGeo_Long\")\n",
    "events = events.withColumnRenamed(\"_c55\",\"ActionGeo_FeatureID\")\n",
    "events = events.withColumnRenamed(\"_c56\",\"DATEADDED\")\n",
    "events = events.withColumnRenamed(\"_c57\",\"SOURCEURL\")"
   ]
  },
  {
   "cell_type": "code",
   "execution_count": 8,
   "metadata": {},
   "outputs": [
    {
     "name": "stdout",
     "output_type": "stream",
     "text": [
      "root\n",
      " |-- GLOBALEVENTID: integer (nullable = true)\n",
      " |-- SQLDATE: integer (nullable = true)\n",
      " |-- MonthYear: integer (nullable = true)\n",
      " |-- Year: integer (nullable = true)\n",
      " |-- FractionDate: double (nullable = true)\n",
      " |-- Actor1Code: string (nullable = true)\n",
      " |-- Actor1Name: string (nullable = true)\n",
      " |-- Actor1CountryCode: string (nullable = true)\n",
      " |-- Actor1KnownGroupCode: string (nullable = true)\n",
      " |-- Actor1EthnicCode: string (nullable = true)\n",
      " |-- Actor1Religion1Code: string (nullable = true)\n",
      " |-- Actor1Religion2Code: string (nullable = true)\n",
      " |-- Actor1Type1Code: string (nullable = true)\n",
      " |-- Actor1Type2Code: string (nullable = true)\n",
      " |-- Actor1Type3Code: string (nullable = true)\n",
      " |-- Actor2Code: string (nullable = true)\n",
      " |-- Actor2Name: string (nullable = true)\n",
      " |-- Actor2CountryCode: string (nullable = true)\n",
      " |-- Actor2KnownGroupCode: string (nullable = true)\n",
      " |-- Actor2EthnicCode: string (nullable = true)\n",
      " |-- Actor2Religion1Code: string (nullable = true)\n",
      " |-- Actor2Religion2Code: string (nullable = true)\n",
      " |-- Actor2Type1Code: string (nullable = true)\n",
      " |-- Actor2Type2Code: string (nullable = true)\n",
      " |-- Actor2Type3Code: string (nullable = true)\n",
      " |-- IsRootEvent: integer (nullable = true)\n",
      " |-- EventCode: string (nullable = true)\n",
      " |-- EventBaseCode: string (nullable = true)\n",
      " |-- EventRootCode: string (nullable = true)\n",
      " |-- QuadClass: integer (nullable = true)\n",
      " |-- GoldsteinScale: double (nullable = true)\n",
      " |-- NumMentions: integer (nullable = true)\n",
      " |-- NumSources: integer (nullable = true)\n",
      " |-- NumArticles: integer (nullable = true)\n",
      " |-- AvgTone: double (nullable = true)\n",
      " |-- Actor1Geo_Type: integer (nullable = true)\n",
      " |-- Actor1Geo_FullName: string (nullable = true)\n",
      " |-- Actor1Geo_CountryCode: string (nullable = true)\n",
      " |-- Actor1Geo_ADM1Code: string (nullable = true)\n",
      " |-- Actor1Geo_Lat: double (nullable = true)\n",
      " |-- Actor1Geo_Long: string (nullable = true)\n",
      " |-- Actor1Geo_FeatureID: string (nullable = true)\n",
      " |-- Actor2Geo_Type: integer (nullable = true)\n",
      " |-- Actor2Geo_FullName: string (nullable = true)\n",
      " |-- Actor2Geo_CountryCode: string (nullable = true)\n",
      " |-- Actor2Geo_ADM1Code: string (nullable = true)\n",
      " |-- Actor2Geo_Lat: double (nullable = true)\n",
      " |-- Actor2Geo_Long: string (nullable = true)\n",
      " |-- Actor2Geo_FeatureID: string (nullable = true)\n",
      " |-- ActionGeo_Type: integer (nullable = true)\n",
      " |-- ActionGeo_FullName: string (nullable = true)\n",
      " |-- ActionGeo_CountryCode: string (nullable = true)\n",
      " |-- ActionGeo_ADM1Code: string (nullable = true)\n",
      " |-- ActionGeo_Lat: double (nullable = true)\n",
      " |-- ActionGeo_Long: string (nullable = true)\n",
      " |-- ActionGeo_FeatureID: string (nullable = true)\n",
      " |-- DATEADDED: integer (nullable = true)\n",
      " |-- SOURCEURL: string (nullable = true)\n",
      "\n"
     ]
    }
   ],
   "source": [
    "events.printSchema()"
   ]
  },
  {
   "cell_type": "code",
   "execution_count": null,
   "metadata": {},
   "outputs": [],
   "source": []
  }
 ],
 "metadata": {
  "kernelspec": {
   "display_name": "Python 3 (ipykernel)",
   "language": "python",
   "name": "python3"
  },
  "language_info": {
   "codemirror_mode": {
    "name": "ipython",
    "version": 3
   },
   "file_extension": ".py",
   "mimetype": "text/x-python",
   "name": "python",
   "nbconvert_exporter": "python",
   "pygments_lexer": "ipython3",
   "version": "3.7.3"
  }
 },
 "nbformat": 4,
 "nbformat_minor": 4
}
