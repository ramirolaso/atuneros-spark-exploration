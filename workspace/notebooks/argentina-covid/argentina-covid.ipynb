{
 "cells": [
  {
   "cell_type": "code",
   "execution_count": 1,
   "metadata": {},
   "outputs": [],
   "source": [
    "import pyspark\n",
    "from pyspark.sql import SparkSession\n",
    "from pyspark.sql.functions import when\n",
    "import pyspark.sql.functions as psf\n"
   ]
  },
  {
   "cell_type": "code",
   "execution_count": 2,
   "metadata": {},
   "outputs": [
    {
     "name": "stderr",
     "output_type": "stream",
     "text": [
      "21/07/03 14:58:30 WARN NativeCodeLoader: Unable to load native-hadoop library for your platform... using builtin-java classes where applicable\n",
      "Using Spark's default log4j profile: org/apache/spark/log4j-defaults.properties\n",
      "Setting default log level to \"WARN\".\n",
      "To adjust logging level use sc.setLogLevel(newLevel). For SparkR, use setLogLevel(newLevel).\n"
     ]
    }
   ],
   "source": [
    "spark = SparkSession.builder \\\n",
    "    .master(\"local\") \\\n",
    "    .appName(\"sample 1\") \\\n",
    "    .getOrCreate()\n"
   ]
  },
  {
   "cell_type": "code",
   "execution_count": 9,
   "metadata": {},
   "outputs": [
    {
     "data": {
      "text/plain": [
       "Row(id_evento_caso='672064', sexo='M', edad='52', edad_años_meses='Años', residencia_pais_nombre='Argentina', residencia_provincia_nombre='Buenos Aires', residencia_departamento_nombre='Florencio Varela', carga_provincia_nombre='Buenos Aires', fecha_inicio_sintomas='2020-05-29', fecha_apertura=None, sepi_apertura='44', fecha_internacion=None, cuidado_intensivo='NO', fecha_cui_intensivo=None, fallecido='NO', fecha_fallecimiento=None, asistencia_respiratoria_mecanica='NO', carga_provincia_id='06', origen_financiamiento='Público', CLASIFICACION='Caso Descartado', clasificacion_resumen='Descartado', residencia_provincia_id='06', fecha_diagnostico='2020-06-01', residencia_departamento_id='274', ultima_actualizacion='2020-07-07')"
      ]
     },
     "execution_count": 9,
     "metadata": {},
     "output_type": "execute_result"
    }
   ],
   "source": [
    "covid = spark.read.option(\"header\",\"true\").csv(\"/opt/workspace/data/Covid19CasosConverted.csv\")\n",
    "covid.head()"
   ]
  },
  {
   "cell_type": "code",
   "execution_count": 10,
   "metadata": {
    "scrolled": true
   },
   "outputs": [
    {
     "name": "stdout",
     "output_type": "stream",
     "text": [
      "root\n",
      " |-- id_evento_caso: string (nullable = true)\n",
      " |-- sexo: string (nullable = true)\n",
      " |-- edad: string (nullable = true)\n",
      " |-- edad_años_meses: string (nullable = true)\n",
      " |-- residencia_pais_nombre: string (nullable = true)\n",
      " |-- residencia_provincia_nombre: string (nullable = true)\n",
      " |-- residencia_departamento_nombre: string (nullable = true)\n",
      " |-- carga_provincia_nombre: string (nullable = true)\n",
      " |-- fecha_inicio_sintomas: string (nullable = true)\n",
      " |-- fecha_apertura: string (nullable = true)\n",
      " |-- sepi_apertura: string (nullable = true)\n",
      " |-- fecha_internacion: string (nullable = true)\n",
      " |-- cuidado_intensivo: string (nullable = true)\n",
      " |-- fecha_cui_intensivo: string (nullable = true)\n",
      " |-- fallecido: string (nullable = true)\n",
      " |-- fecha_fallecimiento: string (nullable = true)\n",
      " |-- asistencia_respiratoria_mecanica: string (nullable = true)\n",
      " |-- carga_provincia_id: string (nullable = true)\n",
      " |-- origen_financiamiento: string (nullable = true)\n",
      " |-- CLASIFICACION: string (nullable = true)\n",
      " |-- clasificacion_resumen: string (nullable = true)\n",
      " |-- residencia_provincia_id: string (nullable = true)\n",
      " |-- fecha_diagnostico: string (nullable = true)\n",
      " |-- residencia_departamento_id: string (nullable = true)\n",
      " |-- ultima_actualizacion: string (nullable = true)\n",
      "\n"
     ]
    }
   ],
   "source": [
    "covid.printSchema()"
   ]
  },
  {
   "cell_type": "code",
   "execution_count": 5,
   "metadata": {},
   "outputs": [],
   "source": [
    "fallecidos = covid.select(\"residencia_provincia_nombre\",\"edad\",\"edad_años_meses\")\\\n",
    ".filter(covid.fallecido == \"SI\")\n"
   ]
  },
  {
   "cell_type": "code",
   "execution_count": 6,
   "metadata": {},
   "outputs": [],
   "source": [
    "fallecidos = fallecidos.withColumn(\"edad_anios\", when(covid[\"edad_años_meses\"] == \"Meses\",covid.edad/12)\n",
    "                                 .otherwise(covid.edad))\n",
    "fallecidos = fallecidos.dropna().drop(\"edad_años_meses\").drop(\"edad\")"
   ]
  },
  {
   "cell_type": "code",
   "execution_count": 7,
   "metadata": {},
   "outputs": [
    {
     "name": "stdout",
     "output_type": "stream",
     "text": [
      "+---------------------------+----------+\n",
      "|residencia_provincia_nombre|edad_anios|\n",
      "+---------------------------+----------+\n",
      "|                       CABA|      65.0|\n",
      "|                       CABA|      59.0|\n",
      "|                       CABA|      68.0|\n",
      "|                      Chaco|      62.0|\n",
      "|                       CABA|      89.0|\n",
      "|               Buenos Aires|      71.0|\n",
      "|                      Chaco|      64.0|\n",
      "|               Buenos Aires|      68.0|\n",
      "|                    Tucumán|      50.0|\n",
      "|               Buenos Aires|      61.0|\n",
      "|               Buenos Aires|       9.0|\n",
      "|                   La Rioja|      43.0|\n",
      "|                   La Rioja|      49.0|\n",
      "|                  Río Negro|      60.0|\n",
      "|                       CABA|      36.0|\n",
      "|               Buenos Aires|      51.0|\n",
      "|               Buenos Aires|       0.5|\n",
      "|                      Chaco|      53.0|\n",
      "|                    Córdoba|      78.0|\n",
      "|                       CABA|      71.0|\n",
      "+---------------------------+----------+\n",
      "only showing top 20 rows\n",
      "\n"
     ]
    }
   ],
   "source": [
    "fallecidos.show(20)"
   ]
  },
  {
   "cell_type": "markdown",
   "metadata": {},
   "source": [
    "## Calculo de la edad suma por provincia"
   ]
  },
  {
   "cell_type": "markdown",
   "metadata": {},
   "source": [
    "Dudas:  \n",
    "  1. Por qué hay n AtLeastNNulls en el paso filter?  \n",
    "      Hay un bug en spark que imprime mal el mensaje, en realidad deberia ser AtLeastNonNull. Que básicamente es un check de que ninguno sea null\n",
    "  2. ¿Por qué vemos mas de un job cuando solo disparamos uno?"
   ]
  },
  {
   "cell_type": "code",
   "execution_count": 8,
   "metadata": {},
   "outputs": [],
   "source": [
    "promedios = fallecidos.select(\"residencia_provincia_nombre\",\"edad_anios\")\\\n",
    ".groupBy(\"residencia_provincia_nombre\")\\\n",
    ".agg(psf.sum(\"edad_anios\").alias(\"edad_promedio\"))"
   ]
  },
  {
   "cell_type": "code",
   "execution_count": 9,
   "metadata": {},
   "outputs": [
    {
     "name": "stdout",
     "output_type": "stream",
     "text": [
      "== Physical Plan ==\n",
      "* HashAggregate (6)\n",
      "+- Exchange (5)\n",
      "   +- * HashAggregate (4)\n",
      "      +- * Project (3)\n",
      "         +- * Filter (2)\n",
      "            +- Scan csv  (1)\n",
      "\n",
      "\n",
      "(1) Scan csv \n",
      "Output [4]: [edad#18, edad_años_meses#19, residencia_provincia_nombre#21, fallecido#30]\n",
      "Batched: false\n",
      "Location: InMemoryFileIndex [file:/Users/luamoroso/os-workspace/atuneros-spark-exploration/argentina-covid/Covid19CasosConverted.csv]\n",
      "PushedFilters: [IsNotNull(fallecido), EqualTo(fallecido,SI)]\n",
      "ReadSchema: struct<edad:int,edad_años_meses:string,residencia_provincia_nombre:string,fallecido:string>\n",
      "\n",
      "(2) Filter [codegen id : 1]\n",
      "Input [4]: [edad#18, edad_años_meses#19, residencia_provincia_nombre#21, fallecido#30]\n",
      "Condition : ((isnotnull(fallecido#30) AND (fallecido#30 = SI)) AND AtLeastNNulls(n, residencia_provincia_nombre#21,edad#18,edad_años_meses#19,CASE WHEN (edad_años_meses#19 = Meses) THEN (cast(edad#18 as double) / 12.0) ELSE cast(edad#18 as double) END))\n",
      "\n",
      "(3) Project [codegen id : 1]\n",
      "Output [2]: [residencia_provincia_nombre#21, CASE WHEN (edad_años_meses#19 = Meses) THEN (cast(edad#18 as double) / 12.0) ELSE cast(edad#18 as double) END AS edad_anios#69]\n",
      "Input [4]: [edad#18, edad_años_meses#19, residencia_provincia_nombre#21, fallecido#30]\n",
      "\n",
      "(4) HashAggregate [codegen id : 1]\n",
      "Input [2]: [residencia_provincia_nombre#21, edad_anios#69]\n",
      "Keys [1]: [residencia_provincia_nombre#21]\n",
      "Functions [1]: [partial_sum(edad_anios#69)]\n",
      "Aggregate Attributes [1]: [sum#104]\n",
      "Results [2]: [residencia_provincia_nombre#21, sum#105]\n",
      "\n",
      "(5) Exchange\n",
      "Input [2]: [residencia_provincia_nombre#21, sum#105]\n",
      "Arguments: hashpartitioning(residencia_provincia_nombre#21, 200), ENSURE_REQUIREMENTS, [id=#55]\n",
      "\n",
      "(6) HashAggregate [codegen id : 2]\n",
      "Input [2]: [residencia_provincia_nombre#21, sum#105]\n",
      "Keys [1]: [residencia_provincia_nombre#21]\n",
      "Functions [1]: [sum(edad_anios#69)]\n",
      "Aggregate Attributes [1]: [sum(edad_anios#69)#100]\n",
      "Results [2]: [residencia_provincia_nombre#21, sum(edad_anios#69)#100 AS edad_promedio#101]\n",
      "\n",
      "\n"
     ]
    }
   ],
   "source": [
    "promedios.explain(mode = \"formatted\")"
   ]
  },
  {
   "cell_type": "code",
   "execution_count": 10,
   "metadata": {},
   "outputs": [
    {
     "name": "stdout",
     "output_type": "stream",
     "text": [
      "+---------------------------+------------------+\n",
      "|residencia_provincia_nombre|     edad_promedio|\n",
      "+---------------------------+------------------+\n",
      "|           Tierra del Fuego|             454.0|\n",
      "|            SIN ESPECIFICAR|             218.0|\n",
      "|                   San Luis|             210.0|\n",
      "|                     Chubut|             968.0|\n",
      "|                      Jujuy|             123.0|\n",
      "|                    Neuquén|2032.4166666666665|\n",
      "|                       CABA| 82170.58333333334|\n",
      "|                 Santa Cruz|             634.0|\n",
      "|                 Entre Ríos|            7109.5|\n",
      "|                    Tucumán|             953.0|\n",
      "|                   La Pampa| 803.3333333333333|\n",
      "|                      Chaco|12228.083333333332|\n",
      "|                    Mendoza| 4241.416666666666|\n",
      "|                   Santa Fe|           2513.75|\n",
      "|                 Corrientes|             302.0|\n",
      "|               Buenos Aires|          135484.5|\n",
      "|                    Córdoba|            4526.0|\n",
      "|                      Salta|             584.0|\n",
      "|        Santiago del Estero|             500.0|\n",
      "|                   Misiones|            1672.0|\n",
      "|                  Río Negro|            4468.0|\n",
      "|                   La Rioja|1401.0833333333333|\n",
      "+---------------------------+------------------+\n",
      "\n"
     ]
    }
   ],
   "source": [
    "promedios.show(100)"
   ]
  },
  {
   "cell_type": "markdown",
   "metadata": {},
   "source": [
    "### Haciendo un reduce by key"
   ]
  },
  {
   "cell_type": "markdown",
   "metadata": {},
   "source": [
    "Nota: Paiton solo puede hacer el reduce by key sobre una tupla!"
   ]
  },
  {
   "cell_type": "code",
   "execution_count": 11,
   "metadata": {},
   "outputs": [],
   "source": [
    "fallecidos_tuplas = fallecidos.rdd.map(lambda f: (f[\"residencia_provincia_nombre\"],float(f[\"edad_anios\"])))"
   ]
  },
  {
   "cell_type": "code",
   "execution_count": 12,
   "metadata": {
    "scrolled": true
   },
   "outputs": [
    {
     "name": "stdout",
     "output_type": "stream",
     "text": [
      "+------------+----+\n",
      "|          _1|  _2|\n",
      "+------------+----+\n",
      "|        CABA|65.0|\n",
      "|        CABA|59.0|\n",
      "|        CABA|68.0|\n",
      "|       Chaco|62.0|\n",
      "|        CABA|89.0|\n",
      "|Buenos Aires|71.0|\n",
      "|       Chaco|64.0|\n",
      "|Buenos Aires|68.0|\n",
      "|     Tucumán|50.0|\n",
      "|Buenos Aires|61.0|\n",
      "|Buenos Aires| 9.0|\n",
      "|    La Rioja|43.0|\n",
      "|    La Rioja|49.0|\n",
      "|   Río Negro|60.0|\n",
      "|        CABA|36.0|\n",
      "|Buenos Aires|51.0|\n",
      "|Buenos Aires| 0.5|\n",
      "|       Chaco|53.0|\n",
      "|     Córdoba|78.0|\n",
      "|        CABA|71.0|\n",
      "+------------+----+\n",
      "only showing top 20 rows\n",
      "\n"
     ]
    }
   ],
   "source": [
    "fallecidos_tuplas.toDF().show(20)"
   ]
  },
  {
   "cell_type": "code",
   "execution_count": 13,
   "metadata": {},
   "outputs": [
    {
     "name": "stdout",
     "output_type": "stream",
     "text": [
      "+-------------------+------------------+\n",
      "|                 _1|                _2|\n",
      "+-------------------+------------------+\n",
      "|              Chaco|12228.083333333332|\n",
      "|       Buenos Aires|          135484.5|\n",
      "|            Córdoba|            4526.0|\n",
      "|Santiago del Estero|             500.0|\n",
      "|              Salta|             584.0|\n",
      "|              Jujuy|             123.0|\n",
      "|             Chubut|             968.0|\n",
      "|    SIN ESPECIFICAR|             218.0|\n",
      "|            Tucumán|             953.0|\n",
      "|            Neuquén|2032.4166666666665|\n",
      "|         Entre Ríos|            7109.5|\n",
      "|               CABA| 82170.58333333334|\n",
      "|          Río Negro|            4468.0|\n",
      "|   Tierra del Fuego|             454.0|\n",
      "|         Corrientes|             302.0|\n",
      "|           La Pampa| 803.3333333333333|\n",
      "|           Misiones|            1672.0|\n",
      "|         Santa Cruz|             634.0|\n",
      "|           La Rioja|1401.0833333333333|\n",
      "|           Santa Fe|           2513.75|\n",
      "|            Mendoza| 4241.416666666666|\n",
      "|           San Luis|             210.0|\n",
      "+-------------------+------------------+\n",
      "\n"
     ]
    }
   ],
   "source": [
    "from operator import add\n",
    "promedios_reduced =fallecidos_tuplas.reduceByKey(add).toDF().show(100)"
   ]
  },
  {
   "cell_type": "code",
   "execution_count": null,
   "metadata": {},
   "outputs": [],
   "source": []
  }
 ],
 "metadata": {
  "interpreter": {
   "hash": "aee8b7b246df8f9039afb4144a1f6fd8d2ca17a180786b69acc140d282b71a49"
  },
  "kernelspec": {
   "display_name": "Python 3 (ipykernel)",
   "language": "python",
   "name": "python3"
  },
  "language_info": {
   "codemirror_mode": {
    "name": "ipython",
    "version": 3
   },
   "file_extension": ".py",
   "mimetype": "text/x-python",
   "name": "python",
   "nbconvert_exporter": "python",
   "pygments_lexer": "ipython3",
   "version": "3.7.3"
  }
 },
 "nbformat": 4,
 "nbformat_minor": 4
}
