{
 "cells": [
  {
   "cell_type": "code",
   "execution_count": 1,
   "metadata": {},
   "outputs": [
    {
     "name": "stderr",
     "output_type": "stream",
     "text": [
      "21/07/17 16:03:58 WARN NativeCodeLoader: Unable to load native-hadoop library for your platform... using builtin-java classes where applicable\n",
      "Using Spark's default log4j profile: org/apache/spark/log4j-defaults.properties\n",
      "Setting default log level to \"WARN\".\n",
      "To adjust logging level use sc.setLogLevel(newLevel). For SparkR, use setLogLevel(newLevel).\n"
     ]
    }
   ],
   "source": [
    "from pyspark.sql import SparkSession\n",
    "\n",
    "spark = SparkSession.\\\n",
    "        builder.\\\n",
    "        appName(\"pyspark-notebook\").\\\n",
    "        master(\"spark://spark-master:7077\").\\\n",
    "        config(\"spark.executor.memory\", \"512m\").\\\n",
    "        getOrCreate()"
   ]
  },
  {
   "cell_type": "code",
   "execution_count": 31,
   "metadata": {},
   "outputs": [
    {
     "name": "stderr",
     "output_type": "stream",
     "text": [
      "                                                                                \r"
     ]
    }
   ],
   "source": [
    "events = spark.read.option(\"inferSchema\",\"true\").option(\"delimiter\", \"\\t\").csv(\"/opt/workspace/data/events-dataset\")"
   ]
  },
  {
   "cell_type": "code",
   "execution_count": 32,
   "metadata": {},
   "outputs": [
    {
     "name": "stdout",
     "output_type": "stream",
     "text": [
      "root\n",
      " |-- _c0: integer (nullable = true)\n",
      " |-- _c1: integer (nullable = true)\n",
      " |-- _c2: integer (nullable = true)\n",
      " |-- _c3: integer (nullable = true)\n",
      " |-- _c4: double (nullable = true)\n",
      " |-- _c5: string (nullable = true)\n",
      " |-- _c6: string (nullable = true)\n",
      " |-- _c7: string (nullable = true)\n",
      " |-- _c8: string (nullable = true)\n",
      " |-- _c9: string (nullable = true)\n",
      " |-- _c10: string (nullable = true)\n",
      " |-- _c11: string (nullable = true)\n",
      " |-- _c12: string (nullable = true)\n",
      " |-- _c13: string (nullable = true)\n",
      " |-- _c14: string (nullable = true)\n",
      " |-- _c15: string (nullable = true)\n",
      " |-- _c16: string (nullable = true)\n",
      " |-- _c17: string (nullable = true)\n",
      " |-- _c18: string (nullable = true)\n",
      " |-- _c19: string (nullable = true)\n",
      " |-- _c20: string (nullable = true)\n",
      " |-- _c21: string (nullable = true)\n",
      " |-- _c22: string (nullable = true)\n",
      " |-- _c23: string (nullable = true)\n",
      " |-- _c24: string (nullable = true)\n",
      " |-- _c25: integer (nullable = true)\n",
      " |-- _c26: string (nullable = true)\n",
      " |-- _c27: string (nullable = true)\n",
      " |-- _c28: string (nullable = true)\n",
      " |-- _c29: integer (nullable = true)\n",
      " |-- _c30: double (nullable = true)\n",
      " |-- _c31: integer (nullable = true)\n",
      " |-- _c32: integer (nullable = true)\n",
      " |-- _c33: integer (nullable = true)\n",
      " |-- _c34: double (nullable = true)\n",
      " |-- _c35: integer (nullable = true)\n",
      " |-- _c36: string (nullable = true)\n",
      " |-- _c37: string (nullable = true)\n",
      " |-- _c38: string (nullable = true)\n",
      " |-- _c39: double (nullable = true)\n",
      " |-- _c40: string (nullable = true)\n",
      " |-- _c41: string (nullable = true)\n",
      " |-- _c42: integer (nullable = true)\n",
      " |-- _c43: string (nullable = true)\n",
      " |-- _c44: string (nullable = true)\n",
      " |-- _c45: string (nullable = true)\n",
      " |-- _c46: double (nullable = true)\n",
      " |-- _c47: string (nullable = true)\n",
      " |-- _c48: string (nullable = true)\n",
      " |-- _c49: integer (nullable = true)\n",
      " |-- _c50: string (nullable = true)\n",
      " |-- _c51: string (nullable = true)\n",
      " |-- _c52: string (nullable = true)\n",
      " |-- _c53: double (nullable = true)\n",
      " |-- _c54: string (nullable = true)\n",
      " |-- _c55: string (nullable = true)\n",
      " |-- _c56: integer (nullable = true)\n",
      " |-- _c57: string (nullable = true)\n",
      "\n"
     ]
    }
   ],
   "source": [
    "events.printSchema()"
   ]
  },
  {
   "cell_type": "code",
   "execution_count": 36,
   "metadata": {},
   "outputs": [
    {
     "name": "stdout",
     "output_type": "stream",
     "text": [
      "+--------------------+\n",
      "|                _c57|\n",
      "+--------------------+\n",
      "|https://patch.com...|\n",
      "|https://www.latim...|\n",
      "|http://www.chicag...|\n",
      "|https://www.gazet...|\n",
      "|https://www.malay...|\n",
      "|https://www.malay...|\n",
      "|https://patch.com...|\n",
      "|https://www.malay...|\n",
      "|https://www.malay...|\n",
      "|https://www.malay...|\n",
      "|https://www.malay...|\n",
      "|https://www.malay...|\n",
      "|https://www.malay...|\n",
      "|https://www.malay...|\n",
      "|https://www.malay...|\n",
      "|https://www.malay...|\n",
      "|https://www.malay...|\n",
      "|https://www.malay...|\n",
      "|https://www.lawof...|\n",
      "|https://www.centr...|\n",
      "|https://www.lawof...|\n",
      "|https://www.lawof...|\n",
      "|https://www.lawof...|\n",
      "|https://www.nbclo...|\n",
      "|https://www.natur...|\n",
      "|https://www.natur...|\n",
      "|https://www.wvik....|\n",
      "|https://www.ntd.c...|\n",
      "|https://www.wvik....|\n",
      "|https://www.wvik....|\n",
      "|https://www.wvik....|\n",
      "|http://www.offnew...|\n",
      "|http://www.offnew...|\n",
      "|https://statescoo...|\n",
      "|https://statescoo...|\n",
      "|https://www.ntd.c...|\n",
      "|https://www.thegl...|\n",
      "|https://www.gazet...|\n",
      "|https://www.ottum...|\n",
      "|https://www.news....|\n",
      "|https://www.centr...|\n",
      "|https://www.centr...|\n",
      "|https://www.centr...|\n",
      "|https://www.centr...|\n",
      "|https://www.centr...|\n",
      "|https://www.myrec...|\n",
      "|https://www.thegl...|\n",
      "|https://www.ottum...|\n",
      "|https://www.ottum...|\n",
      "|https://www.ottum...|\n",
      "|https://radio.wps...|\n",
      "|https://www.centr...|\n",
      "|https://www.irvin...|\n",
      "|https://electroni...|\n",
      "|https://electroni...|\n",
      "|https://www.ottum...|\n",
      "|https://www.nbclo...|\n",
      "|http://www.offnew...|\n",
      "|https://www.kcci....|\n",
      "|https://www.centr...|\n",
      "|https://radio.wps...|\n",
      "|https://www.nbclo...|\n",
      "|https://english.a...|\n",
      "|https://www.ottum...|\n",
      "|http://www.tribun...|\n",
      "|https://www.malay...|\n",
      "|https://www.malay...|\n",
      "|https://www.malay...|\n",
      "|https://www.yahoo...|\n",
      "|https://www.yahoo...|\n",
      "|https://www.cqnew...|\n",
      "|https://www.news....|\n",
      "|https://www.cqnew...|\n",
      "|https://www.geelo...|\n",
      "|https://www.cqnew...|\n",
      "|https://www.europ...|\n",
      "|https://www.cqnew...|\n",
      "|https://www.cqnew...|\n",
      "|https://www.cqnew...|\n",
      "|https://www.newsh...|\n",
      "|https://www.cqnew...|\n",
      "|https://www.irvin...|\n",
      "|https://www.aljaz...|\n",
      "|https://www.wbnq....|\n",
      "|https://somervill...|\n",
      "|https://formulasp...|\n",
      "|https://www.parkr...|\n",
      "|https://www.timmi...|\n",
      "|https://www.timmi...|\n",
      "|https://www.oaoa....|\n",
      "|https://www.msn.c...|\n",
      "|https://kool965.c...|\n",
      "|https://www.trave...|\n",
      "|https://www.msn.c...|\n",
      "|https://www.eagle...|\n",
      "|https://www.wgnsr...|\n",
      "|https://www.thest...|\n",
      "|https://www.mypri...|\n",
      "|https://www.times...|\n",
      "|https://www.mypri...|\n",
      "+--------------------+\n",
      "only showing top 100 rows\n",
      "\n"
     ]
    }
   ],
   "source": [
    "events.select(\"_c57\").show(100)"
   ]
  },
  {
   "cell_type": "code",
   "execution_count": null,
   "metadata": {},
   "outputs": [],
   "source": []
  }
 ],
 "metadata": {
  "kernelspec": {
   "display_name": "Python 3 (ipykernel)",
   "language": "python",
   "name": "python3"
  },
  "language_info": {
   "codemirror_mode": {
    "name": "ipython",
    "version": 3
   },
   "file_extension": ".py",
   "mimetype": "text/x-python",
   "name": "python",
   "nbconvert_exporter": "python",
   "pygments_lexer": "ipython3",
   "version": "3.7.3"
  }
 },
 "nbformat": 4,
 "nbformat_minor": 4
}
